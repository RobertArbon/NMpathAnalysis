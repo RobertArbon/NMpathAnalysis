{
 "cells": [
  {
   "cell_type": "markdown",
   "metadata": {},
   "source": [
    "# Testing the non-Markovian Path Analisys Package\n",
    "\n",
    "We are going to generate first a MC trajectory of a toy model "
   ]
  },
  {
   "cell_type": "code",
   "execution_count": 1,
   "metadata": {
    "collapsed": true
   },
   "outputs": [],
   "source": [
    "import numpy as np\n",
    "\n",
    "from NMpathAnalysis.nmtools.interval import Interval\n",
    "from src.ensemble import *"
   ]
  },
  {
   "cell_type": "code",
   "execution_count": 2,
   "metadata": {
    "collapsed": true
   },
   "outputs": [],
   "source": [
    "'''\n",
    "Function to mimic a MC simulation\n",
    "'''\n",
    "def mc_simulation(numsteps):\n",
    "    x = 5\n",
    "    I = Interval([0,100])\n",
    "    mc_traj = []\n",
    "    \n",
    "    for i in range(numsteps):\n",
    "        dx = np.random.uniform(-10,10)\n",
    "        if (x + dx) in I:\n",
    "            x = x + dx\n",
    "        mc_traj.append(x)\n",
    "    return np.array(mc_traj)"
   ]
  },
  {
   "cell_type": "code",
   "execution_count": 3,
   "metadata": {
    "collapsed": false
   },
   "outputs": [],
   "source": [
    "'''\n",
    "Simple mapping funcion \n",
    "'''\n",
    "def mapping_function(x):\n",
    "    return int(x/10)"
   ]
  },
  {
   "cell_type": "code",
   "execution_count": 4,
   "metadata": {
    "collapsed": false
   },
   "outputs": [],
   "source": [
    "#Generating a short MC trajectoy\n",
    "mc_trajectory = mc_simulation(10000)"
   ]
  },
  {
   "cell_type": "markdown",
   "metadata": {},
   "source": [
    "\n",
    "## 1- Ensemble class (analysis of continuos trajectories)\n",
    "\n",
    "Stores an esemble (list) of trajectories (array) with extra functionalities. The ensemble could have a any number of trajectories including no trajectories at all.\n",
    "\n",
    "### Transition probabilities"
   ]
  },
  {
   "cell_type": "code",
   "execution_count": 5,
   "metadata": {
    "collapsed": false
   },
   "outputs": [],
   "source": [
    "my_ensemble = Ensemble(mc_trajectory)"
   ]
  },
  {
   "cell_type": "code",
   "execution_count": 6,
   "metadata": {
    "collapsed": false
   },
   "outputs": [
    {
     "name": "stdout",
     "output_type": "stream",
     "text": [
      "[[ 1016.   313.     0.     0.     0.     0.     0.     0.     0.     0.]\n",
      " [  312.   510.   284.     0.     0.     0.     0.     0.     0.     0.]\n",
      " [    0.   283.   596.   261.     0.     0.     0.     0.     0.     0.]\n",
      " [    0.     0.   260.   449.   239.     0.     0.     0.     0.     0.]\n",
      " [    0.     0.     0.   238.   482.   224.     0.     0.     0.     0.]\n",
      " [    0.     0.     0.     0.   223.   469.   254.     0.     0.     0.]\n",
      " [    0.     0.     0.     0.     0.   254.   480.   250.     0.     0.]\n",
      " [    0.     0.     0.     0.     0.     0.   250.   473.   220.     0.]\n",
      " [    0.     0.     0.     0.     0.     0.     0.   220.   407.   208.]\n",
      " [    0.     0.     0.     0.     0.     0.     0.     0.   208.   616.]]\n"
     ]
    }
   ],
   "source": [
    "n_states = 10\n",
    "C1 = my_ensemble._count_matrix(n_states, mapping_function)\n",
    "print(C1)"
   ]
  },
  {
   "cell_type": "code",
   "execution_count": 7,
   "metadata": {
    "collapsed": false
   },
   "outputs": [
    {
     "name": "stdout",
     "output_type": "stream",
     "text": [
      "[[ 0.76448457  0.23551543  0.          0.          0.          0.          0.\n",
      "   0.          0.          0.        ]\n",
      " [ 0.28209765  0.46112116  0.25678119  0.          0.          0.          0.\n",
      "   0.          0.          0.        ]\n",
      " [ 0.          0.24824561  0.52280702  0.22894737  0.          0.          0.\n",
      "   0.          0.          0.        ]\n",
      " [ 0.          0.          0.2742616   0.47362869  0.2521097   0.          0.\n",
      "   0.          0.          0.        ]\n",
      " [ 0.          0.          0.          0.25211864  0.51059322  0.23728814\n",
      "   0.          0.          0.          0.        ]\n",
      " [ 0.          0.          0.          0.          0.23572939  0.49577167\n",
      "   0.26849894  0.          0.          0.        ]\n",
      " [ 0.          0.          0.          0.          0.          0.25813008\n",
      "   0.48780488  0.25406504  0.          0.        ]\n",
      " [ 0.          0.          0.          0.          0.          0.\n",
      "   0.26511135  0.50159067  0.23329799  0.        ]\n",
      " [ 0.          0.          0.          0.          0.          0.          0.\n",
      "   0.26347305  0.48742515  0.2491018 ]\n",
      " [ 0.          0.          0.          0.          0.          0.          0.\n",
      "   0.          0.25242718  0.74757282]]\n"
     ]
    }
   ],
   "source": [
    "K1 = my_ensemble._mle_transition_matrix(n_states, mapping_function)\n",
    "print(K1)"
   ]
  },
  {
   "cell_type": "markdown",
   "metadata": {},
   "source": [
    "### Defining states and computing MFPTs\n",
    "The states are considered intervals in the is the class is Ensemble"
   ]
  },
  {
   "cell_type": "code",
   "execution_count": 8,
   "metadata": {
    "collapsed": false
   },
   "outputs": [
    {
     "data": {
      "text/plain": [
       "{'mfptAB': 309.94444444444446,\n",
       " 'mfptBA': 221.38888888888889,\n",
       " 'std_err_mfptAB': 46.121717135154448,\n",
       " 'std_err_mfptBA': 22.117829644949747}"
      ]
     },
     "execution_count": 8,
     "metadata": {},
     "output_type": "execute_result"
    }
   ],
   "source": [
    "stateA = [0,10]\n",
    "stateB = [90,100]\n",
    "\n",
    "my_ensemble.mfpts(stateA, stateB)"
   ]
  },
  {
   "cell_type": "markdown",
   "metadata": {},
   "source": [
    "### Adding more trajectories to the ensemble or (ensemble + ensemble)"
   ]
  },
  {
   "cell_type": "code",
   "execution_count": 9,
   "metadata": {
    "collapsed": false
   },
   "outputs": [],
   "source": [
    "seq1 = mc_simulation(5000)\n",
    "seq2 = mc_simulation(5000)\n",
    "seq3 = mc_simulation(5000)\n",
    "\n",
    "my_e1 = Ensemble(seq1)\n",
    "my_e2 = Ensemble(seq2)\n",
    "my_e3 = Ensemble(seq3)\n",
    "\n",
    "ensemble1 = my_e1 + my_e2 + my_e3"
   ]
  },
  {
   "cell_type": "code",
   "execution_count": 10,
   "metadata": {
    "collapsed": false
   },
   "outputs": [
    {
     "data": {
      "text/plain": [
       "{'mfptAB': 239.85714285714286,\n",
       " 'mfptBA': 279.10714285714283,\n",
       " 'std_err_mfptAB': 34.784860442942488,\n",
       " 'std_err_mfptBA': 38.30104767861949}"
      ]
     },
     "execution_count": 10,
     "metadata": {},
     "output_type": "execute_result"
    }
   ],
   "source": [
    "stateA = [0,10]\n",
    "stateB = [90,100]\n",
    "ensemble1.mfpts(stateA,stateB)"
   ]
  },
  {
   "cell_type": "code",
   "execution_count": 11,
   "metadata": {
    "collapsed": false
   },
   "outputs": [
    {
     "name": "stdout",
     "output_type": "stream",
     "text": [
      "WARNING: No B->A events observed\n"
     ]
    },
    {
     "data": {
      "text/plain": [
       "{'mfptAB': 2.5,\n",
       " 'mfptBA': 'NaN',\n",
       " 'std_err_mfptAB': 0.35355339059327373,\n",
       " 'std_err_mfptBA': 'NaN'}"
      ]
     },
     "execution_count": 11,
     "metadata": {},
     "output_type": "execute_result"
    }
   ],
   "source": [
    "e1 = Ensemble([1,2,3,4])\n",
    "e2 = Ensemble([2,3,4,5])\n",
    "e3 = Ensemble([2,1,1,4])\n",
    "\n",
    "my_ensembles = [e1, e2, e3]\n",
    "\n",
    "ensemble_tot = Ensemble([])\n",
    "\n",
    "for traj in my_ensembles:\n",
    "    ensemble_tot += traj\n",
    "\n",
    "ensemble_tot.trajectories\n",
    "ensemble_tot.mfpts([1,1],[4,4])"
   ]
  },
  {
   "cell_type": "markdown",
   "metadata": {
    "collapsed": false
   },
   "source": [
    "\n",
    "## 2- DiscreteEnsemble class\n",
    "\n",
    "We can generate a discrete trajectory from the same mapping function and we should obtain exaclty the same result:"
   ]
  },
  {
   "cell_type": "code",
   "execution_count": 12,
   "metadata": {
    "collapsed": false
   },
   "outputs": [
    {
     "name": "stdout",
     "output_type": "stream",
     "text": [
      "[0 1 1 0 0 0 0 0 1 0 1 2 2 2 2 2 3 4 3 2 2 3 2 3 2 2 2 2 1 1 1 1 2 2 3 2 2\n",
      " 2 3 4 4 5 4 5 4 4 5 5 5 5 5 4 5 5 4 5 6 6 6 7 7 8 7 8 8 8 7 7 7 6 6 6 7 6\n",
      " 7 8 7 6 6 5 6 6 6 6 5 6 5 6 6 6 6 6 7 6 5 5 4 4 4 5 4 5 5 4 4 3 4 4 5 5 5\n",
      " 5 5 4 3 3 3 3 2 3 2 2 2 1 2 1 2 2 2 2 3 3 3 3 3 3 2 2 3 3 3 3 4 4 3 3 4 4\n",
      " 3 3 3 2 3 2 1 2 1 2 1 1 1 1 1 1 2 3 2 2 2 1 2 1 1 1 2 1 2 2 1 2 2 2 2 2 1\n",
      " 1 0 0 0 1 0 0 0 0 1 2 1 0 0]\n"
     ]
    },
    {
     "data": {
      "text/plain": [
       "(1, 10000)"
      ]
     },
     "execution_count": 12,
     "metadata": {},
     "output_type": "execute_result"
    }
   ],
   "source": [
    "\n",
    "d_ens = DiscreteEnsemble.from_ensemble(mc_trajectory,mapping_function)\n",
    "\n",
    "print(d_ens.trajectories[0][1:200])\n",
    "np.array(d_ens.trajectories).shape"
   ]
  },
  {
   "cell_type": "code",
   "execution_count": 13,
   "metadata": {
    "collapsed": false
   },
   "outputs": [
    {
     "name": "stdout",
     "output_type": "stream",
     "text": [
      "[[ 1016.   313.     0.     0.     0.     0.     0.     0.     0.     0.]\n",
      " [  312.   510.   284.     0.     0.     0.     0.     0.     0.     0.]\n",
      " [    0.   283.   596.   261.     0.     0.     0.     0.     0.     0.]\n",
      " [    0.     0.   260.   449.   239.     0.     0.     0.     0.     0.]\n",
      " [    0.     0.     0.   238.   482.   224.     0.     0.     0.     0.]\n",
      " [    0.     0.     0.     0.   223.   469.   254.     0.     0.     0.]\n",
      " [    0.     0.     0.     0.     0.   254.   480.   250.     0.     0.]\n",
      " [    0.     0.     0.     0.     0.     0.   250.   473.   220.     0.]\n",
      " [    0.     0.     0.     0.     0.     0.     0.   220.   407.   208.]\n",
      " [    0.     0.     0.     0.     0.     0.     0.     0.   208.   616.]]\n"
     ]
    }
   ],
   "source": [
    "C2 = d_ens._count_matrix(n_states)\n",
    "print(C2)"
   ]
  },
  {
   "cell_type": "code",
   "execution_count": 14,
   "metadata": {
    "collapsed": false,
    "scrolled": true
   },
   "outputs": [
    {
     "name": "stdout",
     "output_type": "stream",
     "text": [
      "[[ 0.76448457  0.23551543  0.          0.          0.          0.          0.\n",
      "   0.          0.          0.        ]\n",
      " [ 0.28209765  0.46112116  0.25678119  0.          0.          0.          0.\n",
      "   0.          0.          0.        ]\n",
      " [ 0.          0.24824561  0.52280702  0.22894737  0.          0.          0.\n",
      "   0.          0.          0.        ]\n",
      " [ 0.          0.          0.2742616   0.47362869  0.2521097   0.          0.\n",
      "   0.          0.          0.        ]\n",
      " [ 0.          0.          0.          0.25211864  0.51059322  0.23728814\n",
      "   0.          0.          0.          0.        ]\n",
      " [ 0.          0.          0.          0.          0.23572939  0.49577167\n",
      "   0.26849894  0.          0.          0.        ]\n",
      " [ 0.          0.          0.          0.          0.          0.25813008\n",
      "   0.48780488  0.25406504  0.          0.        ]\n",
      " [ 0.          0.          0.          0.          0.          0.\n",
      "   0.26511135  0.50159067  0.23329799  0.        ]\n",
      " [ 0.          0.          0.          0.          0.          0.          0.\n",
      "   0.26347305  0.48742515  0.2491018 ]\n",
      " [ 0.          0.          0.          0.          0.          0.          0.\n",
      "   0.          0.25242718  0.74757282]]\n"
     ]
    }
   ],
   "source": [
    "K2= d_ens._mle_transition_matrix(n_states)\n",
    "print(K2)"
   ]
  },
  {
   "cell_type": "markdown",
   "metadata": {},
   "source": [
    "### Defining states and computing MFPTs\n",
    "The states are now considered sets, defining the states as follow we should obtain the same results"
   ]
  },
  {
   "cell_type": "code",
   "execution_count": 15,
   "metadata": {
    "collapsed": false
   },
   "outputs": [
    {
     "data": {
      "text/plain": [
       "{'mfptAB': 309.94444444444446,\n",
       " 'mfptBA': 221.38888888888889,\n",
       " 'std_err_mfptAB': 46.121717135154448,\n",
       " 'std_err_mfptBA': 22.117829644949747}"
      ]
     },
     "execution_count": 15,
     "metadata": {},
     "output_type": "execute_result"
    }
   ],
   "source": [
    "stateA = [0]\n",
    "stateB = [9]\n",
    "\n",
    "d_ens.mfpts(stateA, stateB)"
   ]
  },
  {
   "cell_type": "markdown",
   "metadata": {},
   "source": [
    "The main function of this class would be to generate trajectories from the transition matrix"
   ]
  },
  {
   "cell_type": "code",
   "execution_count": 16,
   "metadata": {
    "collapsed": false
   },
   "outputs": [],
   "source": [
    "d_ens2 = DiscreteEnsemble.from_transition_matrix(K2, sim_length = 10000)"
   ]
  },
  {
   "cell_type": "code",
   "execution_count": 17,
   "metadata": {
    "collapsed": false
   },
   "outputs": [
    {
     "data": {
      "text/plain": [
       "{'mfptAB': 182.90625,\n",
       " 'mfptBA': 133.2258064516129,\n",
       " 'std_err_mfptAB': 25.483157710619317,\n",
       " 'std_err_mfptBA': 18.420948446819274}"
      ]
     },
     "execution_count": 17,
     "metadata": {},
     "output_type": "execute_result"
    }
   ],
   "source": [
    "d_ens2.mfpts(stateA,stateB)"
   ]
  },
  {
   "cell_type": "code",
   "execution_count": 25,
   "metadata": {
    "collapsed": false
   },
   "outputs": [],
   "source": [
    "pathEnsemble = DiscretePathEnsemble.from_transition_matrix(K2,stateA, stateB, n_paths = 10,ini_pops = [1])"
   ]
  },
  {
   "cell_type": "code",
   "execution_count": null,
   "metadata": {
    "collapsed": true
   },
   "outputs": [],
   "source": []
  }
 ],
 "metadata": {
  "anaconda-cloud": {},
  "kernelspec": {
   "display_name": "Python [Root]",
   "language": "python",
   "name": "Python [Root]"
  },
  "language_info": {
   "codemirror_mode": {
    "name": "ipython",
    "version": 3
   },
   "file_extension": ".py",
   "mimetype": "text/x-python",
   "name": "python",
   "nbconvert_exporter": "python",
   "pygments_lexer": "ipython3",
   "version": "3.5.1"
  }
 },
 "nbformat": 4,
 "nbformat_minor": 0
}
