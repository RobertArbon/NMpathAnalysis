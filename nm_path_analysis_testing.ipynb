{
 "cells": [
  {
   "cell_type": "markdown",
   "metadata": {},
   "source": [
    "# Testing the non-Markovian Path Analisys Package\n",
    "\n",
    "We are going to generate first a MC trajectory of a toy model "
   ]
  },
  {
   "cell_type": "code",
   "execution_count": 37,
   "metadata": {
    "collapsed": true
   },
   "outputs": [],
   "source": [
    "import numpy as np\n",
    "\n",
    "from NMpathAnalysis.nmtools.interval import Interval\n",
    "from src.trajectory import *"
   ]
  },
  {
   "cell_type": "code",
   "execution_count": 38,
   "metadata": {
    "collapsed": true
   },
   "outputs": [],
   "source": [
    "'''\n",
    "Function to mimic a MC simulation\n",
    "'''\n",
    "def mc_simulation(numsteps):\n",
    "    x = 5\n",
    "    I = Interval([0,100])\n",
    "    mc_traj = []\n",
    "    \n",
    "    for i in range(numsteps):\n",
    "        dx = random.uniform(-10,10)\n",
    "        if (x + dx) in I:\n",
    "            x = x + dx\n",
    "        mc_traj.append(x)\n",
    "    return np.array(mc_traj)"
   ]
  },
  {
   "cell_type": "code",
   "execution_count": 39,
   "metadata": {
    "collapsed": false
   },
   "outputs": [],
   "source": [
    "'''\n",
    "Simple mapping funcion \n",
    "'''\n",
    "def mapping_function(x):\n",
    "    return int(x/10)"
   ]
  },
  {
   "cell_type": "code",
   "execution_count": 40,
   "metadata": {
    "collapsed": false
   },
   "outputs": [],
   "source": [
    "#Generating a short MC trajectoy\n",
    "mc_trajectory = mc_simulation(10000)"
   ]
  },
  {
   "cell_type": "markdown",
   "metadata": {},
   "source": [
    "\n",
    "## 1- Ensemble class (analysis of continuos trajectories)\n",
    "\n",
    "Stores an esemble (array) of trajectories with extra functionalities. The ensemble could have a any number of trajectories including no trajectories at all.\n",
    "\n",
    "### Transition probabilities"
   ]
  },
  {
   "cell_type": "code",
   "execution_count": 41,
   "metadata": {
    "collapsed": false
   },
   "outputs": [],
   "source": [
    "my_ensemble = Ensemble(mc_trajectory)"
   ]
  },
  {
   "cell_type": "code",
   "execution_count": 42,
   "metadata": {
    "collapsed": false
   },
   "outputs": [
    {
     "name": "stdout",
     "output_type": "stream",
     "text": [
      "[[ 573.  199.    0.    0.    0.    0.    0.    0.    0.    0.]\n",
      " [ 199.  403.  234.    0.    0.    0.    0.    0.    0.    0.]\n",
      " [   0.  234.  462.  206.    0.    0.    0.    0.    0.    0.]\n",
      " [   0.    0.  206.  486.  241.    0.    0.    0.    0.    0.]\n",
      " [   0.    0.    0.  241.  455.  260.    0.    0.    0.    0.]\n",
      " [   0.    0.    0.    0.  260.  605.  293.    0.    0.    0.]\n",
      " [   0.    0.    0.    0.    0.  293.  509.  297.    0.    0.]\n",
      " [   0.    0.    0.    0.    0.    0.  297.  605.  295.    0.]\n",
      " [   0.    0.    0.    0.    0.    0.    0.  295.  546.  261.]\n",
      " [   0.    0.    0.    0.    0.    0.    0.    0.  261.  783.]]\n"
     ]
    }
   ],
   "source": [
    "n_states = 10\n",
    "C1 = my_ensemble._count_matrix(n_states, mapping_function)\n",
    "print(C1)"
   ]
  },
  {
   "cell_type": "code",
   "execution_count": 43,
   "metadata": {
    "collapsed": false
   },
   "outputs": [
    {
     "name": "stdout",
     "output_type": "stream",
     "text": [
      "[[ 0.74222798  0.25777202  0.          0.          0.          0.          0.\n",
      "   0.          0.          0.        ]\n",
      " [ 0.23803828  0.48205742  0.27990431  0.          0.          0.          0.\n",
      "   0.          0.          0.        ]\n",
      " [ 0.          0.2594235   0.51219512  0.22838137  0.          0.          0.\n",
      "   0.          0.          0.        ]\n",
      " [ 0.          0.          0.22079314  0.52090032  0.25830654  0.          0.\n",
      "   0.          0.          0.        ]\n",
      " [ 0.          0.          0.          0.25209205  0.47594142  0.27196653\n",
      "   0.          0.          0.          0.        ]\n",
      " [ 0.          0.          0.          0.          0.22452504  0.5224525\n",
      "   0.25302245  0.          0.          0.        ]\n",
      " [ 0.          0.          0.          0.          0.          0.26660601\n",
      "   0.46314832  0.27024568  0.          0.        ]\n",
      " [ 0.          0.          0.          0.          0.          0.\n",
      "   0.2481203   0.50543024  0.24644946  0.        ]\n",
      " [ 0.          0.          0.          0.          0.          0.          0.\n",
      "   0.2676951   0.49546279  0.23684211]\n",
      " [ 0.          0.          0.          0.          0.          0.          0.\n",
      "   0.          0.25        0.75      ]]\n"
     ]
    }
   ],
   "source": [
    "K1 = my_ensemble._mle_transition_matrix(n_states, mapping_function)\n",
    "print(K1)"
   ]
  },
  {
   "cell_type": "markdown",
   "metadata": {},
   "source": [
    "### Defining states and computing MFPTs\n",
    "The states are considered intervals in the is the class is Ensemble"
   ]
  },
  {
   "cell_type": "code",
   "execution_count": 44,
   "metadata": {
    "collapsed": false
   },
   "outputs": [
    {
     "data": {
      "text/plain": [
       "{'mfptAB': 198.33333333333334,\n",
       " 'mfptBA': 271.6190476190476,\n",
       " 'std_err_mfptAB': 21.137636993212855,\n",
       " 'std_err_mfptBA': 41.809386928427422}"
      ]
     },
     "execution_count": 44,
     "metadata": {},
     "output_type": "execute_result"
    }
   ],
   "source": [
    "stateA = [0,10]\n",
    "stateB = [90,100]\n",
    "\n",
    "my_ensemble.mfpts(stateA, stateB)"
   ]
  },
  {
   "cell_type": "markdown",
   "metadata": {},
   "source": [
    "### Adding more trajectories to the ensemble or (ensemble + ensemble)"
   ]
  },
  {
   "cell_type": "code",
   "execution_count": 45,
   "metadata": {
    "collapsed": false
   },
   "outputs": [],
   "source": [
    "seq1 = mc_simulation(5000)\n",
    "seq2 = mc_simulation(5000)\n",
    "seq3 = mc_simulation(5000)\n",
    "\n",
    "my_e1 = Ensemble(seq1)\n",
    "my_e2 = Ensemble(seq2)\n",
    "my_e3 = Ensemble(seq3)\n",
    "\n",
    "ensemble1 = my_e1 + my_e2 + my_e3"
   ]
  },
  {
   "cell_type": "code",
   "execution_count": 46,
   "metadata": {
    "collapsed": false
   },
   "outputs": [
    {
     "data": {
      "text/plain": [
       "{'mfptAB': 317.1666666666667,\n",
       " 'mfptBA': 312.95454545454544,\n",
       " 'std_err_mfptAB': 56.010095402856059,\n",
       " 'std_err_mfptBA': 53.147365579764347}"
      ]
     },
     "execution_count": 46,
     "metadata": {},
     "output_type": "execute_result"
    }
   ],
   "source": [
    "stateA = [0,10]\n",
    "stateB = [90,100]\n",
    "ensemble1.mfpts(stateA,stateB)"
   ]
  },
  {
   "cell_type": "code",
   "execution_count": 47,
   "metadata": {
    "collapsed": false
   },
   "outputs": [
    {
     "name": "stdout",
     "output_type": "stream",
     "text": [
      "WARNING: No B->A events observed\n"
     ]
    },
    {
     "data": {
      "text/plain": [
       "{'mfptAB': 2.5,\n",
       " 'mfptBA': 'NaN',\n",
       " 'std_err_mfptAB': 0.35355339059327373,\n",
       " 'std_err_mfptBA': 'NaN'}"
      ]
     },
     "execution_count": 47,
     "metadata": {},
     "output_type": "execute_result"
    }
   ],
   "source": [
    "e1 = Ensemble([1,2,3,4])\n",
    "e2 = Ensemble([2,3,4,5])\n",
    "e3 = Ensemble([2,1,1,4])\n",
    "\n",
    "my_ensembles = [e1, e2, e3]\n",
    "\n",
    "ensemble_tot = Ensemble([])\n",
    "\n",
    "for traj in my_ensembles:\n",
    "    ensemble_tot += traj\n",
    "\n",
    "ensemble_tot.sequence\n",
    "ensemble_tot.mfpts([1,1],[4,4])"
   ]
  },
  {
   "cell_type": "markdown",
   "metadata": {
    "collapsed": false
   },
   "source": [
    "\n",
    "## 2- DiscreteEnsemble class\n",
    "\n",
    "We can generate a discrete trajectory from the same mapping function and we should obtain exaclty the same result:"
   ]
  },
  {
   "cell_type": "code",
   "execution_count": 48,
   "metadata": {
    "collapsed": false
   },
   "outputs": [
    {
     "name": "stdout",
     "output_type": "stream",
     "text": [
      "[1 1 1 1 2 2 1 2 2 2 2 2 3 2 2 2 1 1 1 1 1 2 2 2 1 1 1 0 1 1 2 3 3 3 3 3 3\n",
      " 2 2 2 2 1 2 1 0 0 0 1 0 0 1 1 2 1 1 1 0 1 1 2 2 3 3 4 4 5 5 6 7 7 7 6 5 5\n",
      " 5 6 5 5 5 5 5 4 5 5 5 5 5 4 3 4 3 4 3 3 3 3 2 2 2 1 1 2 2 2 2 3 3 3 3 4 3\n",
      " 4 4 4 4 3 3 3 4 5 6 6 6 7 7 6 6 6 6 5 6 5 6 7 7 7 7 7 7 6 7 8 7 6 7 7 8 8\n",
      " 8 8 8 9 8 9 9 9 9 9 9 9 9 9 9 9 9 9 9 9 9 9 9 9 8 8 9 9 9 8 8 8 8 8 9 9 9\n",
      " 9 9 9 9 9 9 8 8 8 9 8 8 7 6]\n"
     ]
    },
    {
     "data": {
      "text/plain": [
       "(1, 10000)"
      ]
     },
     "execution_count": 48,
     "metadata": {},
     "output_type": "execute_result"
    }
   ],
   "source": [
    "\n",
    "d_ens = DiscreteEnsemble.from_ensemble(mc_trajectory,mapping_function)\n",
    "\n",
    "print(d_ens.sequence[0][1:200])\n",
    "d_ens.sequence.shape"
   ]
  },
  {
   "cell_type": "code",
   "execution_count": 49,
   "metadata": {
    "collapsed": false
   },
   "outputs": [
    {
     "name": "stdout",
     "output_type": "stream",
     "text": [
      "[[ 573.  199.    0.    0.    0.    0.    0.    0.    0.    0.]\n",
      " [ 199.  403.  234.    0.    0.    0.    0.    0.    0.    0.]\n",
      " [   0.  234.  462.  206.    0.    0.    0.    0.    0.    0.]\n",
      " [   0.    0.  206.  486.  241.    0.    0.    0.    0.    0.]\n",
      " [   0.    0.    0.  241.  455.  260.    0.    0.    0.    0.]\n",
      " [   0.    0.    0.    0.  260.  605.  293.    0.    0.    0.]\n",
      " [   0.    0.    0.    0.    0.  293.  509.  297.    0.    0.]\n",
      " [   0.    0.    0.    0.    0.    0.  297.  605.  295.    0.]\n",
      " [   0.    0.    0.    0.    0.    0.    0.  295.  546.  261.]\n",
      " [   0.    0.    0.    0.    0.    0.    0.    0.  261.  783.]]\n"
     ]
    }
   ],
   "source": [
    "C2 = d_ens._count_matrix(n_states)\n",
    "print(C2)"
   ]
  },
  {
   "cell_type": "code",
   "execution_count": 50,
   "metadata": {
    "collapsed": false,
    "scrolled": true
   },
   "outputs": [
    {
     "name": "stdout",
     "output_type": "stream",
     "text": [
      "[[ 0.74222798  0.25777202  0.          0.          0.          0.          0.\n",
      "   0.          0.          0.        ]\n",
      " [ 0.23803828  0.48205742  0.27990431  0.          0.          0.          0.\n",
      "   0.          0.          0.        ]\n",
      " [ 0.          0.2594235   0.51219512  0.22838137  0.          0.          0.\n",
      "   0.          0.          0.        ]\n",
      " [ 0.          0.          0.22079314  0.52090032  0.25830654  0.          0.\n",
      "   0.          0.          0.        ]\n",
      " [ 0.          0.          0.          0.25209205  0.47594142  0.27196653\n",
      "   0.          0.          0.          0.        ]\n",
      " [ 0.          0.          0.          0.          0.22452504  0.5224525\n",
      "   0.25302245  0.          0.          0.        ]\n",
      " [ 0.          0.          0.          0.          0.          0.26660601\n",
      "   0.46314832  0.27024568  0.          0.        ]\n",
      " [ 0.          0.          0.          0.          0.          0.\n",
      "   0.2481203   0.50543024  0.24644946  0.        ]\n",
      " [ 0.          0.          0.          0.          0.          0.          0.\n",
      "   0.2676951   0.49546279  0.23684211]\n",
      " [ 0.          0.          0.          0.          0.          0.          0.\n",
      "   0.          0.25        0.75      ]]\n"
     ]
    }
   ],
   "source": [
    "K2= d_ens._mle_transition_matrix(n_states)\n",
    "print(K2)"
   ]
  },
  {
   "cell_type": "markdown",
   "metadata": {},
   "source": [
    "### Defining states and computing MFPTs\n",
    "The states are now considered sets, defining the states as follow we should obtain the same results"
   ]
  },
  {
   "cell_type": "code",
   "execution_count": 51,
   "metadata": {
    "collapsed": false
   },
   "outputs": [
    {
     "data": {
      "text/plain": [
       "{'mfptAB': 198.33333333333334,\n",
       " 'mfptBA': 271.6190476190476,\n",
       " 'std_err_mfptAB': 21.137636993212855,\n",
       " 'std_err_mfptBA': 41.809386928427422}"
      ]
     },
     "execution_count": 51,
     "metadata": {},
     "output_type": "execute_result"
    }
   ],
   "source": [
    "stateA = [0]\n",
    "stateB = [9]\n",
    "\n",
    "d_ens.mfpts(stateA, stateB)"
   ]
  },
  {
   "cell_type": "markdown",
   "metadata": {},
   "source": [
    "The main function of this class would be to generate trajectories from the transition matrix"
   ]
  },
  {
   "cell_type": "code",
   "execution_count": 56,
   "metadata": {
    "collapsed": true
   },
   "outputs": [],
   "source": [
    "d_ens2 = DiscreteEnsemble.from_transition_matrix(K2, sim_length = 10000)"
   ]
  },
  {
   "cell_type": "code",
   "execution_count": 57,
   "metadata": {
    "collapsed": false
   },
   "outputs": [
    {
     "data": {
      "text/plain": [
       "{'mfptAB': 141.85714285714286,\n",
       " 'mfptBA': 333.5238095238095,\n",
       " 'std_err_mfptAB': 21.14653396968404,\n",
       " 'std_err_mfptBA': 69.294848654878962}"
      ]
     },
     "execution_count": 57,
     "metadata": {},
     "output_type": "execute_result"
    }
   ],
   "source": [
    "d_ens2.mfpts(stateA,stateB)"
   ]
  },
  {
   "cell_type": "code",
   "execution_count": null,
   "metadata": {
    "collapsed": true
   },
   "outputs": [],
   "source": []
  }
 ],
 "metadata": {
  "anaconda-cloud": {},
  "kernelspec": {
   "display_name": "Python [Root]",
   "language": "python",
   "name": "Python [Root]"
  },
  "language_info": {
   "codemirror_mode": {
    "name": "ipython",
    "version": 3
   },
   "file_extension": ".py",
   "mimetype": "text/x-python",
   "name": "python",
   "nbconvert_exporter": "python",
   "pygments_lexer": "ipython3",
   "version": "3.5.1"
  }
 },
 "nbformat": 4,
 "nbformat_minor": 0
}
