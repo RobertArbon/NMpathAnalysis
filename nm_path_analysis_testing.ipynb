{
 "cells": [
  {
   "cell_type": "markdown",
   "metadata": {},
   "source": [
    "# Testing the non-Markovian Path Analisys Package\n",
    "\n",
    "We are going to generate first a MC trajectory of a toy model "
   ]
  },
  {
   "cell_type": "code",
   "execution_count": 79,
   "metadata": {
    "collapsed": true
   },
   "outputs": [],
   "source": [
    "import numpy as np\n",
    "\n",
    "from NMpathAnalysis.nmtools.interval import Interval\n",
    "from src.trajectory import *"
   ]
  },
  {
   "cell_type": "code",
   "execution_count": 80,
   "metadata": {
    "collapsed": true
   },
   "outputs": [],
   "source": [
    "'''\n",
    "Function to mimic a MC simulation\n",
    "'''\n",
    "def mc_simulation(numsteps):\n",
    "    x = 5\n",
    "    I = Interval([0,100])\n",
    "    mc_traj = []\n",
    "    \n",
    "    for i in range(numsteps):\n",
    "        dx = random.uniform(-10,10)\n",
    "        if (x + dx) in I:\n",
    "            x = x + dx\n",
    "        mc_traj.append(x)\n",
    "    return np.array(mc_traj)"
   ]
  },
  {
   "cell_type": "code",
   "execution_count": 81,
   "metadata": {
    "collapsed": false
   },
   "outputs": [],
   "source": [
    "'''\n",
    "Simple mapping funcion to discreti\n",
    "'''\n",
    "def simple_mapping(x):\n",
    "    return int(x/10)"
   ]
  },
  {
   "cell_type": "code",
   "execution_count": 82,
   "metadata": {
    "collapsed": false
   },
   "outputs": [],
   "source": [
    "#Generating a short MC trajectoy\n",
    "mc_trajectory = mc_simulation(10000)"
   ]
  },
  {
   "cell_type": "markdown",
   "metadata": {},
   "source": [
    "\n",
    "## 1-Trajectory class (analysis of continuos trajectories)\n",
    "\n",
    "### Transition probabilities"
   ]
  },
  {
   "cell_type": "code",
   "execution_count": 85,
   "metadata": {
    "collapsed": true
   },
   "outputs": [],
   "source": [
    "t = Trajectory(mc_trajectory)"
   ]
  },
  {
   "cell_type": "code",
   "execution_count": 86,
   "metadata": {
    "collapsed": false
   },
   "outputs": [
    {
     "name": "stdout",
     "output_type": "stream",
     "text": [
      "[[ 702.  271.    0.    0.    0.    0.    0.    0.    0.    0.]\n",
      " [ 270.  620.  287.    0.    0.    0.    0.    0.    0.    0.]\n",
      " [   0.  286.  568.  269.    0.    0.    0.    0.    0.    0.]\n",
      " [   0.    0.  268.  485.  246.    0.    0.    0.    0.    0.]\n",
      " [   0.    0.    0.  245.  500.  236.    0.    0.    0.    0.]\n",
      " [   0.    0.    0.    0.  235.  432.  218.    0.    0.    0.]\n",
      " [   0.    0.    0.    0.    0.  217.  498.  247.    0.    0.]\n",
      " [   0.    0.    0.    0.    0.    0.  246.  449.  236.    0.]\n",
      " [   0.    0.    0.    0.    0.    0.    0.  236.  475.  245.]\n",
      " [   0.    0.    0.    0.    0.    0.    0.    0.  245.  767.]]\n"
     ]
    }
   ],
   "source": [
    "n_states = 10\n",
    "C1 = t.count_matrix(n_states, simple_mapping)\n",
    "print(C1)"
   ]
  },
  {
   "cell_type": "code",
   "execution_count": 87,
   "metadata": {
    "collapsed": false
   },
   "outputs": [
    {
     "name": "stdout",
     "output_type": "stream",
     "text": [
      "[[ 0.72147996  0.27852004  0.          0.          0.          0.          0.\n",
      "   0.          0.          0.        ]\n",
      " [ 0.22939677  0.52676296  0.24384027  0.          0.          0.          0.\n",
      "   0.          0.          0.        ]\n",
      " [ 0.          0.25467498  0.50578807  0.23953695  0.          0.          0.\n",
      "   0.          0.          0.        ]\n",
      " [ 0.          0.          0.26826827  0.48548549  0.24624625  0.          0.\n",
      "   0.          0.          0.        ]\n",
      " [ 0.          0.          0.          0.24974516  0.509684    0.24057085\n",
      "   0.          0.          0.          0.        ]\n",
      " [ 0.          0.          0.          0.          0.26553672  0.48813559\n",
      "   0.24632768  0.          0.          0.        ]\n",
      " [ 0.          0.          0.          0.          0.          0.22557173\n",
      "   0.51767152  0.25675676  0.          0.        ]\n",
      " [ 0.          0.          0.          0.          0.          0.\n",
      "   0.26423201  0.48227712  0.25349087  0.        ]\n",
      " [ 0.          0.          0.          0.          0.          0.          0.\n",
      "   0.24686192  0.49686192  0.25627615]\n",
      " [ 0.          0.          0.          0.          0.          0.          0.\n",
      "   0.          0.24209486  0.75790514]]\n"
     ]
    }
   ],
   "source": [
    "K1 = t._mle_transition_matrix(n_states, simple_mapping)\n",
    "print(K1)"
   ]
  },
  {
   "cell_type": "markdown",
   "metadata": {},
   "source": [
    "### Defining states and computing MFPTs\n",
    "The states are considered intervals in the continuous trajectory"
   ]
  },
  {
   "cell_type": "code",
   "execution_count": 88,
   "metadata": {
    "collapsed": false
   },
   "outputs": [
    {
     "data": {
      "text/plain": [
       "{'mfptAB': 282.7894736842105,\n",
       " 'mfptBA': 214.33333333333334,\n",
       " 'std_err_mfptAB': 56.082427412945997,\n",
       " 'std_err_mfptBA': 28.85393184153677}"
      ]
     },
     "execution_count": 88,
     "metadata": {},
     "output_type": "execute_result"
    }
   ],
   "source": [
    "stateA = [0,10]\n",
    "stateB = [90,100]\n",
    "\n",
    "t.mfpts(stateA, stateB)"
   ]
  },
  {
   "cell_type": "markdown",
   "metadata": {
    "collapsed": false
   },
   "source": [
    "\n",
    "## 2- DiscreteTrajectory class\n",
    "\n",
    "We can generate a discrete trajectory from the same mapping function and we should obtain exaclty the same result:"
   ]
  },
  {
   "cell_type": "code",
   "execution_count": 90,
   "metadata": {
    "collapsed": true
   },
   "outputs": [],
   "source": [
    "dtraj = DiscreteTrajectory.from_continuous_traj(mc_trajectory,simple_mapping)"
   ]
  },
  {
   "cell_type": "code",
   "execution_count": 91,
   "metadata": {
    "collapsed": false
   },
   "outputs": [
    {
     "name": "stdout",
     "output_type": "stream",
     "text": [
      "[[ 702.  271.    0.    0.    0.    0.    0.    0.    0.    0.]\n",
      " [ 270.  620.  287.    0.    0.    0.    0.    0.    0.    0.]\n",
      " [   0.  286.  568.  269.    0.    0.    0.    0.    0.    0.]\n",
      " [   0.    0.  268.  485.  246.    0.    0.    0.    0.    0.]\n",
      " [   0.    0.    0.  245.  500.  236.    0.    0.    0.    0.]\n",
      " [   0.    0.    0.    0.  235.  432.  218.    0.    0.    0.]\n",
      " [   0.    0.    0.    0.    0.  217.  498.  247.    0.    0.]\n",
      " [   0.    0.    0.    0.    0.    0.  246.  449.  236.    0.]\n",
      " [   0.    0.    0.    0.    0.    0.    0.  236.  475.  245.]\n",
      " [   0.    0.    0.    0.    0.    0.    0.    0.  245.  767.]]\n"
     ]
    }
   ],
   "source": [
    "C2 = dtraj.count_matrix(n_states)\n",
    "print(C2)"
   ]
  },
  {
   "cell_type": "code",
   "execution_count": 92,
   "metadata": {
    "collapsed": false,
    "scrolled": true
   },
   "outputs": [
    {
     "name": "stdout",
     "output_type": "stream",
     "text": [
      "[[ 0.72147996  0.27852004  0.          0.          0.          0.          0.\n",
      "   0.          0.          0.        ]\n",
      " [ 0.22939677  0.52676296  0.24384027  0.          0.          0.          0.\n",
      "   0.          0.          0.        ]\n",
      " [ 0.          0.25467498  0.50578807  0.23953695  0.          0.          0.\n",
      "   0.          0.          0.        ]\n",
      " [ 0.          0.          0.26826827  0.48548549  0.24624625  0.          0.\n",
      "   0.          0.          0.        ]\n",
      " [ 0.          0.          0.          0.24974516  0.509684    0.24057085\n",
      "   0.          0.          0.          0.        ]\n",
      " [ 0.          0.          0.          0.          0.26553672  0.48813559\n",
      "   0.24632768  0.          0.          0.        ]\n",
      " [ 0.          0.          0.          0.          0.          0.22557173\n",
      "   0.51767152  0.25675676  0.          0.        ]\n",
      " [ 0.          0.          0.          0.          0.          0.\n",
      "   0.26423201  0.48227712  0.25349087  0.        ]\n",
      " [ 0.          0.          0.          0.          0.          0.          0.\n",
      "   0.24686192  0.49686192  0.25627615]\n",
      " [ 0.          0.          0.          0.          0.          0.          0.\n",
      "   0.          0.24209486  0.75790514]]\n"
     ]
    }
   ],
   "source": [
    "K2= dtraj._mle_transition_matrix(n_states)\n",
    "print(K2)"
   ]
  },
  {
   "cell_type": "markdown",
   "metadata": {},
   "source": [
    "### Defining states and computing MFPTs\n",
    "The states are now considered sets, defining the states as follow we should obtain the same results"
   ]
  },
  {
   "cell_type": "code",
   "execution_count": 93,
   "metadata": {
    "collapsed": false
   },
   "outputs": [
    {
     "data": {
      "text/plain": [
       "{'mfptAB': 282.7894736842105,\n",
       " 'mfptBA': 214.33333333333334,\n",
       " 'std_err_mfptAB': 56.082427412945997,\n",
       " 'std_err_mfptBA': 28.85393184153677}"
      ]
     },
     "execution_count": 93,
     "metadata": {},
     "output_type": "execute_result"
    }
   ],
   "source": [
    "stateA = [0]\n",
    "stateB = [9]\n",
    "\n",
    "dtraj.mfpts(stateA, stateB)"
   ]
  },
  {
   "cell_type": "markdown",
   "metadata": {},
   "source": [
    "The main function of this class would be to generate trajectories from the transition matrix"
   ]
  },
  {
   "cell_type": "code",
   "execution_count": 98,
   "metadata": {
    "collapsed": true
   },
   "outputs": [],
   "source": [
    "dtraj2 = DiscreteTrajectory.from_transition_matrix(K2,sim_length = 10000)"
   ]
  },
  {
   "cell_type": "code",
   "execution_count": 99,
   "metadata": {
    "collapsed": false
   },
   "outputs": [
    {
     "data": {
      "text/plain": [
       "{'mfptAB': 186.07692307692307,\n",
       " 'mfptBA': 193.73076923076923,\n",
       " 'std_err_mfptAB': 29.832963137722267,\n",
       " 'std_err_mfptBA': 31.840465754204942}"
      ]
     },
     "execution_count": 99,
     "metadata": {},
     "output_type": "execute_result"
    }
   ],
   "source": [
    "dtraj2.mfpts(stateA,stateB)"
   ]
  },
  {
   "cell_type": "code",
   "execution_count": null,
   "metadata": {
    "collapsed": true
   },
   "outputs": [],
   "source": []
  }
 ],
 "metadata": {
  "anaconda-cloud": {},
  "kernelspec": {
   "display_name": "Python 3",
   "language": "python",
   "name": "python3"
  },
  "language_info": {
   "codemirror_mode": {
    "name": "ipython",
    "version": 3
   },
   "file_extension": ".py",
   "mimetype": "text/x-python",
   "name": "python",
   "nbconvert_exporter": "python",
   "pygments_lexer": "ipython3",
   "version": "3.4.3"
  }
 },
 "nbformat": 4,
 "nbformat_minor": 0
}
