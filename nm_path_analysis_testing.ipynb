{
 "cells": [
  {
   "cell_type": "markdown",
   "metadata": {},
   "source": [
    "# Testing the non-Markovian Path Analisys Package\n",
    "\n",
    "We are going to generate first a MC trajectory of a toy model "
   ]
  },
  {
   "cell_type": "code",
   "execution_count": 1,
   "metadata": {
    "collapsed": true
   },
   "outputs": [],
   "source": [
    "import numpy as np\n",
    "\n",
    "from NMpathAnalysis.nmtools.interval import Interval\n",
    "from src.ensemble import *"
   ]
  },
  {
   "cell_type": "code",
   "execution_count": 2,
   "metadata": {
    "collapsed": true
   },
   "outputs": [],
   "source": [
    "'''\n",
    "Function to mimic a MC simulation\n",
    "'''\n",
    "def mc_simulation(numsteps):\n",
    "    x = 5\n",
    "    I = Interval([0,100])\n",
    "    mc_traj = []\n",
    "    \n",
    "    for i in range(numsteps):\n",
    "        dx = random.uniform(-10,10)\n",
    "        if (x + dx) in I:\n",
    "            x = x + dx\n",
    "        mc_traj.append(x)\n",
    "    return np.array(mc_traj)"
   ]
  },
  {
   "cell_type": "code",
   "execution_count": 3,
   "metadata": {
    "collapsed": false
   },
   "outputs": [],
   "source": [
    "'''\n",
    "Simple mapping funcion \n",
    "'''\n",
    "def mapping_function(x):\n",
    "    return int(x/10)"
   ]
  },
  {
   "cell_type": "code",
   "execution_count": 4,
   "metadata": {
    "collapsed": false
   },
   "outputs": [],
   "source": [
    "#Generating a short MC trajectoy\n",
    "mc_trajectory = mc_simulation(10000)"
   ]
  },
  {
   "cell_type": "markdown",
   "metadata": {},
   "source": [
    "\n",
    "## 1- Ensemble class (analysis of continuos trajectories)\n",
    "\n",
    "Stores an esemble (array) of trajectories with extra functionalities. The ensemble could have a any number of trajectories including no trajectories at all.\n",
    "\n",
    "### Transition probabilities"
   ]
  },
  {
   "cell_type": "code",
   "execution_count": 5,
   "metadata": {
    "collapsed": false
   },
   "outputs": [],
   "source": [
    "my_ensemble = Ensemble(mc_trajectory)"
   ]
  },
  {
   "cell_type": "code",
   "execution_count": 6,
   "metadata": {
    "collapsed": false
   },
   "outputs": [
    {
     "name": "stdout",
     "output_type": "stream",
     "text": [
      "[[ 623.  198.    0.    0.    0.    0.    0.    0.    0.    0.]\n",
      " [ 197.  439.  219.    0.    0.    0.    0.    0.    0.    0.]\n",
      " [   0.  218.  516.  258.    0.    0.    0.    0.    0.    0.]\n",
      " [   0.    0.  257.  572.  280.    0.    0.    0.    0.    0.]\n",
      " [   0.    0.    0.  279.  506.  251.    0.    0.    0.    0.]\n",
      " [   0.    0.    0.    0.  250.  480.  252.    0.    0.    0.]\n",
      " [   0.    0.    0.    0.    0.  252.  490.  262.    0.    0.]\n",
      " [   0.    0.    0.    0.    0.    0.  262.  509.  242.    0.]\n",
      " [   0.    0.    0.    0.    0.    0.    0.  242.  476.  267.]\n",
      " [   0.    0.    0.    0.    0.    0.    0.    0.  267.  935.]]\n"
     ]
    }
   ],
   "source": [
    "n_states = 10\n",
    "C1 = my_ensemble._count_matrix(n_states, mapping_function)\n",
    "print(C1)"
   ]
  },
  {
   "cell_type": "code",
   "execution_count": 7,
   "metadata": {
    "collapsed": false
   },
   "outputs": [
    {
     "name": "stdout",
     "output_type": "stream",
     "text": [
      "[[ 0.75883069  0.24116931  0.          0.          0.          0.          0.\n",
      "   0.          0.          0.        ]\n",
      " [ 0.23040936  0.51345029  0.25614035  0.          0.          0.          0.\n",
      "   0.          0.          0.        ]\n",
      " [ 0.          0.21975806  0.52016129  0.26008065  0.          0.          0.\n",
      "   0.          0.          0.        ]\n",
      " [ 0.          0.          0.23174031  0.51577998  0.25247971  0.          0.\n",
      "   0.          0.          0.        ]\n",
      " [ 0.          0.          0.          0.26930502  0.48841699  0.24227799\n",
      "   0.          0.          0.          0.        ]\n",
      " [ 0.          0.          0.          0.          0.25458248  0.48879837\n",
      "   0.25661914  0.          0.          0.        ]\n",
      " [ 0.          0.          0.          0.          0.          0.25099602\n",
      "   0.48804781  0.26095618  0.          0.        ]\n",
      " [ 0.          0.          0.          0.          0.          0.\n",
      "   0.25863771  0.50246792  0.23889437  0.        ]\n",
      " [ 0.          0.          0.          0.          0.          0.          0.\n",
      "   0.24568528  0.48324873  0.27106599]\n",
      " [ 0.          0.          0.          0.          0.          0.          0.\n",
      "   0.          0.22212978  0.77787022]]\n"
     ]
    }
   ],
   "source": [
    "K1 = my_ensemble._mle_transition_matrix(n_states, mapping_function)\n",
    "print(K1)"
   ]
  },
  {
   "cell_type": "markdown",
   "metadata": {},
   "source": [
    "### Defining states and computing MFPTs\n",
    "The states are considered intervals in the is the class is Ensemble"
   ]
  },
  {
   "cell_type": "code",
   "execution_count": 8,
   "metadata": {
    "collapsed": false
   },
   "outputs": [
    {
     "data": {
      "text/plain": [
       "{'mfptAB': 299.6666666666667,\n",
       " 'mfptBA': 337.6,\n",
       " 'std_err_mfptAB': 76.553694542772703,\n",
       " 'std_err_mfptBA': 66.343268937649825}"
      ]
     },
     "execution_count": 8,
     "metadata": {},
     "output_type": "execute_result"
    }
   ],
   "source": [
    "stateA = [0,10]\n",
    "stateB = [90,100]\n",
    "\n",
    "my_ensemble.mfpts(stateA, stateB)"
   ]
  },
  {
   "cell_type": "markdown",
   "metadata": {},
   "source": [
    "### Adding more trajectories to the ensemble or (ensemble + ensemble)"
   ]
  },
  {
   "cell_type": "code",
   "execution_count": 9,
   "metadata": {
    "collapsed": false
   },
   "outputs": [],
   "source": [
    "seq1 = mc_simulation(5000)\n",
    "seq2 = mc_simulation(5000)\n",
    "seq3 = mc_simulation(5000)\n",
    "\n",
    "my_e1 = Ensemble(seq1)\n",
    "my_e2 = Ensemble(seq2)\n",
    "my_e3 = Ensemble(seq3)\n",
    "\n",
    "ensemble1 = my_e1 + my_e2 + my_e3"
   ]
  },
  {
   "cell_type": "code",
   "execution_count": 10,
   "metadata": {
    "collapsed": false
   },
   "outputs": [
    {
     "data": {
      "text/plain": [
       "{'mfptAB': 259.2,\n",
       " 'mfptBA': 231.86666666666667,\n",
       " 'std_err_mfptAB': 44.705465735932847,\n",
       " 'std_err_mfptBA': 31.926225142535273}"
      ]
     },
     "execution_count": 10,
     "metadata": {},
     "output_type": "execute_result"
    }
   ],
   "source": [
    "stateA = [0,10]\n",
    "stateB = [90,100]\n",
    "ensemble1.mfpts(stateA,stateB)"
   ]
  },
  {
   "cell_type": "code",
   "execution_count": 11,
   "metadata": {
    "collapsed": false
   },
   "outputs": [
    {
     "name": "stdout",
     "output_type": "stream",
     "text": [
      "WARNING: No B->A events observed\n"
     ]
    },
    {
     "data": {
      "text/plain": [
       "{'mfptAB': 2.5,\n",
       " 'mfptBA': 'NaN',\n",
       " 'std_err_mfptAB': 0.35355339059327373,\n",
       " 'std_err_mfptBA': 'NaN'}"
      ]
     },
     "execution_count": 11,
     "metadata": {},
     "output_type": "execute_result"
    }
   ],
   "source": [
    "e1 = Ensemble([1,2,3,4])\n",
    "e2 = Ensemble([2,3,4,5])\n",
    "e3 = Ensemble([2,1,1,4])\n",
    "\n",
    "my_ensembles = [e1, e2, e3]\n",
    "\n",
    "ensemble_tot = Ensemble([])\n",
    "\n",
    "for traj in my_ensembles:\n",
    "    ensemble_tot += traj\n",
    "\n",
    "ensemble_tot.sequence\n",
    "ensemble_tot.mfpts([1,1],[4,4])"
   ]
  },
  {
   "cell_type": "markdown",
   "metadata": {
    "collapsed": false
   },
   "source": [
    "\n",
    "## 2- DiscreteEnsemble class\n",
    "\n",
    "We can generate a discrete trajectory from the same mapping function and we should obtain exaclty the same result:"
   ]
  },
  {
   "cell_type": "code",
   "execution_count": 12,
   "metadata": {
    "collapsed": false
   },
   "outputs": [
    {
     "name": "stdout",
     "output_type": "stream",
     "text": [
      "[0 0 0 0 0 0 0 0 0 1 0 1 1 1 0 0 0 0 0 1 1 1 1 1 2 1 2 1 1 1 0 0 0 0 0 0 0\n",
      " 0 0 0 1 1 2 3 2 2 2 2 2 3 2 1 2 2 1 1 2 2 2 2 3 3 4 3 3 3 2 3 3 4 3 3 3 3\n",
      " 4 5 4 3 3 3 3 3 2 2 2 3 4 5 5 5 4 4 4 3 3 3 3 3 2 2 3 3 3 3 3 3 2 1 1 0 0\n",
      " 0 1 1 0 0 0 0 1 2 2 2 1 2 1 2 1 2 2 2 2 3 3 2 2 3 2 2 2 3 2 1 1 2 2 2 3 4\n",
      " 4 5 6 5 4 5 5 5 5 4 3 3 4 5 5 6 6 6 6 7 7 7 7 7 7 7 7 8 9 8 9 9 9 9 9 8 9\n",
      " 9 8 9 8 8 7 7 6 5 4 4 3 3 3]\n"
     ]
    },
    {
     "data": {
      "text/plain": [
       "(1, 10000)"
      ]
     },
     "execution_count": 12,
     "metadata": {},
     "output_type": "execute_result"
    }
   ],
   "source": [
    "\n",
    "d_ens = DiscreteEnsemble.from_ensemble(mc_trajectory,mapping_function)\n",
    "\n",
    "print(d_ens.sequence[0][1:200])\n",
    "d_ens.sequence.shape"
   ]
  },
  {
   "cell_type": "code",
   "execution_count": 13,
   "metadata": {
    "collapsed": false
   },
   "outputs": [
    {
     "name": "stdout",
     "output_type": "stream",
     "text": [
      "[[ 623.  198.    0.    0.    0.    0.    0.    0.    0.    0.]\n",
      " [ 197.  439.  219.    0.    0.    0.    0.    0.    0.    0.]\n",
      " [   0.  218.  516.  258.    0.    0.    0.    0.    0.    0.]\n",
      " [   0.    0.  257.  572.  280.    0.    0.    0.    0.    0.]\n",
      " [   0.    0.    0.  279.  506.  251.    0.    0.    0.    0.]\n",
      " [   0.    0.    0.    0.  250.  480.  252.    0.    0.    0.]\n",
      " [   0.    0.    0.    0.    0.  252.  490.  262.    0.    0.]\n",
      " [   0.    0.    0.    0.    0.    0.  262.  509.  242.    0.]\n",
      " [   0.    0.    0.    0.    0.    0.    0.  242.  476.  267.]\n",
      " [   0.    0.    0.    0.    0.    0.    0.    0.  267.  935.]]\n"
     ]
    }
   ],
   "source": [
    "C2 = d_ens._count_matrix(n_states)\n",
    "print(C2)"
   ]
  },
  {
   "cell_type": "code",
   "execution_count": 14,
   "metadata": {
    "collapsed": false,
    "scrolled": true
   },
   "outputs": [
    {
     "name": "stdout",
     "output_type": "stream",
     "text": [
      "[[ 0.75883069  0.24116931  0.          0.          0.          0.          0.\n",
      "   0.          0.          0.        ]\n",
      " [ 0.23040936  0.51345029  0.25614035  0.          0.          0.          0.\n",
      "   0.          0.          0.        ]\n",
      " [ 0.          0.21975806  0.52016129  0.26008065  0.          0.          0.\n",
      "   0.          0.          0.        ]\n",
      " [ 0.          0.          0.23174031  0.51577998  0.25247971  0.          0.\n",
      "   0.          0.          0.        ]\n",
      " [ 0.          0.          0.          0.26930502  0.48841699  0.24227799\n",
      "   0.          0.          0.          0.        ]\n",
      " [ 0.          0.          0.          0.          0.25458248  0.48879837\n",
      "   0.25661914  0.          0.          0.        ]\n",
      " [ 0.          0.          0.          0.          0.          0.25099602\n",
      "   0.48804781  0.26095618  0.          0.        ]\n",
      " [ 0.          0.          0.          0.          0.          0.\n",
      "   0.25863771  0.50246792  0.23889437  0.        ]\n",
      " [ 0.          0.          0.          0.          0.          0.          0.\n",
      "   0.24568528  0.48324873  0.27106599]\n",
      " [ 0.          0.          0.          0.          0.          0.          0.\n",
      "   0.          0.22212978  0.77787022]]\n"
     ]
    }
   ],
   "source": [
    "K2= d_ens._mle_transition_matrix(n_states)\n",
    "print(K2)"
   ]
  },
  {
   "cell_type": "markdown",
   "metadata": {},
   "source": [
    "### Defining states and computing MFPTs\n",
    "The states are now considered sets, defining the states as follow we should obtain the same results"
   ]
  },
  {
   "cell_type": "code",
   "execution_count": 15,
   "metadata": {
    "collapsed": false
   },
   "outputs": [
    {
     "data": {
      "text/plain": [
       "{'mfptAB': 299.6666666666667,\n",
       " 'mfptBA': 337.6,\n",
       " 'std_err_mfptAB': 76.553694542772703,\n",
       " 'std_err_mfptBA': 66.343268937649825}"
      ]
     },
     "execution_count": 15,
     "metadata": {},
     "output_type": "execute_result"
    }
   ],
   "source": [
    "stateA = [0]\n",
    "stateB = [9]\n",
    "\n",
    "d_ens.mfpts(stateA, stateB)"
   ]
  },
  {
   "cell_type": "markdown",
   "metadata": {},
   "source": [
    "The main function of this class would be to generate trajectories from the transition matrix"
   ]
  },
  {
   "cell_type": "code",
   "execution_count": 16,
   "metadata": {
    "collapsed": true
   },
   "outputs": [],
   "source": [
    "d_ens2 = DiscreteEnsemble.from_transition_matrix(K2, sim_length = 10000)"
   ]
  },
  {
   "cell_type": "code",
   "execution_count": 17,
   "metadata": {
    "collapsed": false
   },
   "outputs": [
    {
     "data": {
      "text/plain": [
       "{'mfptAB': 146.3448275862069,\n",
       " 'mfptBA': 203.39285714285714,\n",
       " 'std_err_mfptAB': 24.823144998466823,\n",
       " 'std_err_mfptBA': 28.605753456794378}"
      ]
     },
     "execution_count": 17,
     "metadata": {},
     "output_type": "execute_result"
    }
   ],
   "source": [
    "d_ens2.mfpts(stateA,stateB)"
   ]
  },
  {
   "cell_type": "code",
   "execution_count": null,
   "metadata": {
    "collapsed": true
   },
   "outputs": [],
   "source": []
  }
 ],
 "metadata": {
  "anaconda-cloud": {},
  "kernelspec": {
   "display_name": "Python [Root]",
   "language": "python",
   "name": "Python [Root]"
  },
  "language_info": {
   "codemirror_mode": {
    "name": "ipython",
    "version": 3
   },
   "file_extension": ".py",
   "mimetype": "text/x-python",
   "name": "python",
   "nbconvert_exporter": "python",
   "pygments_lexer": "ipython3",
   "version": "3.5.1"
  }
 },
 "nbformat": 4,
 "nbformat_minor": 0
}
